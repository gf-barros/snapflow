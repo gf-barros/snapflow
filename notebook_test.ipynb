{
 "cells": [
  {
   "cell_type": "code",
   "execution_count": 1,
   "metadata": {},
   "outputs": [],
   "source": [
    "%load_ext autoreload\n",
    "%autoreload 2"
   ]
  },
  {
   "cell_type": "code",
   "execution_count": 2,
   "metadata": {},
   "outputs": [
    {
     "name": "stderr",
     "output_type": "stream",
     "text": [
      "2024-01-19 12:50:36,935 - matplotlib - DEBUG - matplotlib data path: /home/bombra/anaconda3/envs/padme/lib/python3.11/site-packages/matplotlib/mpl-data\n",
      "2024-01-19 12:50:36,941 - matplotlib - DEBUG - CONFIGDIR=/home/bombra/.config/matplotlib\n",
      "2024-01-19 12:50:36,944 - matplotlib - DEBUG - interactive is False\n",
      "2024-01-19 12:50:36,945 - matplotlib - DEBUG - platform is linux\n",
      "2024-01-19 12:50:37,088 - matplotlib - DEBUG - CACHEDIR=/home/bombra/.cache/matplotlib\n",
      "2024-01-19 12:50:37,090 - matplotlib.font_manager - DEBUG - Using fontManager instance from /home/bombra/.cache/matplotlib/fontlist-v330.json\n"
     ]
    }
   ],
   "source": [
    "from yaml import safe_load, YAMLError\n",
    "from src.snapshots import snapshots_assembly, data_normalization, insert_h5_vector\n",
    "from src.dim_reduction import SVD, AutoEncoder"
   ]
  },
  {
   "cell_type": "code",
   "execution_count": 3,
   "metadata": {},
   "outputs": [],
   "source": [
    "with open(\"parameters.yaml\", \"r\") as stream:\n",
    "    try:\n",
    "        params = safe_load(stream)\n",
    "    except YAMLError as exc:\n",
    "        print(exc)"
   ]
  },
  {
   "cell_type": "code",
   "execution_count": 4,
   "metadata": {},
   "outputs": [
    {
     "data": {
      "text/plain": [
       "{'snapshots': {'file_type_str': 'h5_fenics',\n",
       "  'folder': 'data/input',\n",
       "  'visualization_folder': 'data/visualization',\n",
       "  'file_name_contains': ['concentration'],\n",
       "  'normalization': 'standard_scaler',\n",
       "  'dataset': None},\n",
       " 'svd': {'trunc_basis': 270,\n",
       "  'normalization': 'min_max',\n",
       "  'svd_type': 'randomized_svd',\n",
       "  'power_iterations': 1,\n",
       "  'oversampling': 20},\n",
       " 'auto_encoder': {'batch_size': 300,\n",
       "  'num_epochs': 10000,\n",
       "  'learning_rate': '1e-4',\n",
       "  'weight_decay': '1e-8',\n",
       "  'loss_function': 'smooth_l1_loss',\n",
       "  'loss_parameters': {'beta': 0.2},\n",
       "  'num_workers': 2,\n",
       "  'number_of_hidden_layers': 5,\n",
       "  'hidden_layers_sizes': [256, 128, 64, 32, 16],\n",
       "  'hidden_layers_activation_function': ['leaky_relu',\n",
       "   'leaky_relu',\n",
       "   'leaky_relu',\n",
       "   'leaky_relu',\n",
       "   ''],\n",
       "  'hidden_layers_activation_function_parameters': [0.2, 0.2, 0.2, 0.2, 'None'],\n",
       "  'decoder_activation_function': 'sigmoid',\n",
       "  'decoder_activation_function_parameter': 'None'}}"
      ]
     },
     "execution_count": 4,
     "metadata": {},
     "output_type": "execute_result"
    }
   ],
   "source": [
    "params"
   ]
  },
  {
   "cell_type": "code",
   "execution_count": 5,
   "metadata": {},
   "outputs": [
    {
     "name": "stderr",
     "output_type": "stream",
     "text": [
      "2024-01-19 12:50:38,205 - src.snapshots - INFO - Starting choice of file type:\n",
      "2024-01-19 12:50:38,206 - src.snapshots - INFO - FEniCS HDF5 file selected.\n",
      "Loading Snapshots 2701: 100%|██████████| 2701/2701 [00:37<00:00, 72.86it/s]\n"
     ]
    },
    {
     "data": {
      "text/plain": [
       "(70801, 2702)"
      ]
     },
     "execution_count": 5,
     "metadata": {},
     "output_type": "execute_result"
    }
   ],
   "source": [
    "filenames, snapshots = snapshots_assembly(params[\"snapshots\"])\n",
    "snapshots.shape"
   ]
  },
  {
   "cell_type": "code",
   "execution_count": 6,
   "metadata": {},
   "outputs": [],
   "source": [
    "# normalized_snapshots, snapshots_normalization_obj = data_normalization(\n",
    "#     snapshots, params[\"snapshots\"], transpose=True\n",
    "# )  # extração da média temporal de cada nó\n",
    "# snapshots.shape"
   ]
  },
  {
   "cell_type": "code",
   "execution_count": 7,
   "metadata": {},
   "outputs": [],
   "source": [
    "# vector = snapshots_normalization_obj.mean_\n",
    "# insert_h5_vector(\n",
    "#     vector,\n",
    "#     params[\"snapshots\"],\n",
    "# )"
   ]
  },
  {
   "cell_type": "code",
   "execution_count": 8,
   "metadata": {},
   "outputs": [
    {
     "name": "stdout",
     "output_type": "stream",
     "text": [
      "(70801, 290)\n",
      "(290, 290)\n"
     ]
    },
    {
     "name": "stderr",
     "output_type": "stream",
     "text": [
      "2024-01-19 12:51:24,168 - matplotlib.pyplot - DEBUG - Loaded backend module://matplotlib_inline.backend_inline version unknown.\n",
      "2024-01-19 12:51:24,171 - matplotlib.pyplot - DEBUG - Loaded backend module://matplotlib_inline.backend_inline version unknown.\n"
     ]
    },
    {
     "data": {
      "image/png": "[encoded data removed]",
      "text/plain": [
       "<Figure size 640x480 with 1 Axes>"
      ]
     },
     "metadata": {},
     "output_type": "display_data"
    }
   ],
   "source": [
    "svd_step_randomized = SVD(snapshots, params[\"svd\"])\n",
    "svd_step_randomized.fit()\n",
    "svd_step_randomized.plot_singular_values()"
   ]
  },
  {
   "cell_type": "code",
   "execution_count": 23,
   "metadata": {},
   "outputs": [
    {
     "data": {
      "text/plain": [
       "(270, 2702)"
      ]
     },
     "execution_count": 23,
     "metadata": {},
     "output_type": "execute_result"
    }
   ],
   "source": [
    "projected_snapshots = svd_step_randomized.u.T @ snapshots\n",
    "\n",
    "projected_snapshots_normalized, u_normalization_obj = data_normalization(\n",
    "    projected_snapshots, params[\"svd\"], transpose=False\n",
    ")  # min_max vetores singulares a esquerda\n",
    "projected_snapshots_normalized.shape"
   ]
  },
  {
   "cell_type": "code",
   "execution_count": 24,
   "metadata": {},
   "outputs": [],
   "source": [
    "# u_normalized[0, :].max()"
   ]
  },
  {
   "cell_type": "code",
   "execution_count": 25,
   "metadata": {},
   "outputs": [],
   "source": [
    "# vector = u_normalized[:, 0]\n",
    "# insert_h5_vector(\n",
    "#     vector,\n",
    "#     params[\"snapshots\"],\n",
    "# )"
   ]
  },
  {
   "cell_type": "code",
   "execution_count": 26,
   "metadata": {},
   "outputs": [
    {
     "name": "stderr",
     "output_type": "stream",
     "text": [
      "2024-01-19 16:55:48,092 - src.dim_reduction - INFO - -------------------- Starting training for AutoEncoder --------------------\n",
      "2024-01-19 16:55:48,093 - src.dim_reduction - INFO -  # of data: torch.Size([2702, 270])\n",
      "2024-01-19 16:55:48,094 - src.dim_reduction - INFO -  # of layers: 5\n",
      "2024-01-19 16:55:48,096 - src.dim_reduction - INFO -  Encoder architecture: Sequential(\n",
      "  (0): Linear(in_features=270, out_features=256, bias=True)\n",
      "  (1): LeakyReLU(negative_slope=0.2)\n",
      "  (2): Linear(in_features=256, out_features=128, bias=True)\n",
      "  (3): LeakyReLU(negative_slope=0.2)\n",
      "  (4): Linear(in_features=128, out_features=64, bias=True)\n",
      "  (5): LeakyReLU(negative_slope=0.2)\n",
      "  (6): Linear(in_features=64, out_features=32, bias=True)\n",
      "  (7): LeakyReLU(negative_slope=0.2)\n",
      "  (8): Linear(in_features=32, out_features=16, bias=True)\n",
      ")\n",
      "/home/bombra/anaconda3/envs/padme/lib/python3.11/site-packages/torch/nn/_reduction.py:42: UserWarning: size_average and reduce args will be deprecated, please use reduction='mean' instead.\n",
      "  warnings.warn(warning.format(ret))\n"
     ]
    },
    {
     "name": "stdout",
     "output_type": "stream",
     "text": [
      "<class 'torch.utils.data.dataloader.DataLoader'>\n"
     ]
    },
    {
     "name": "stderr",
     "output_type": "stream",
     "text": [
      "100%|██████████| 10000/10000 [36:33<00:00,  4.56it/s]\n"
     ]
    }
   ],
   "source": [
    "ae_test_2 = AutoEncoder(projected_snapshots_normalized, params[\"auto_encoder\"])\n",
    "ae_test_2.fit()\n",
    "\n",
    "# print(ae_test_2.auto_encoder.encoder)\n",
    "# print(ae_test_2.auto_encoder.decoder)"
   ]
  },
  {
   "cell_type": "code",
   "execution_count": 27,
   "metadata": {},
   "outputs": [
    {
     "data": {
      "image/png": "[encoded data removed]",
      "text/plain": [
       "<Figure size 640x480 with 1 Axes>"
      ]
     },
     "metadata": {},
     "output_type": "display_data"
    }
   ],
   "source": [
    "ae_test_2.plot_quantities_per_epoch(\"avg_loss_by_epoch\")"
   ]
  },
  {
   "cell_type": "code",
   "execution_count": 30,
   "metadata": {},
   "outputs": [
    {
     "name": "stdout",
     "output_type": "stream",
     "text": [
      "torch.Size([270])\n"
     ]
    },
    {
     "data": {
      "text/plain": [
       "0.006338466274245669"
      ]
     },
     "execution_count": 30,
     "metadata": {},
     "output_type": "execute_result"
    }
   ],
   "source": [
    "# 1a analise: erro do autoencoder (apenas)\n",
    "\n",
    "import torch\n",
    "\n",
    "f_original_autoencoder = projected_snapshots_normalized[:, 0]\n",
    "f_reconstructed = ae_test_2.auto_encoder.forward(\n",
    "    torch.tensor(f_original_autoencoder, dtype=torch.float32)\n",
    ")\n",
    "print(f_reconstructed.shape)\n",
    "\n",
    "import numpy as np\n",
    "\n",
    "np.linalg.norm(\n",
    "    f_original_autoencoder - f_reconstructed.detach().numpy()\n",
    ") / np.linalg.norm(f_original_autoencoder, 2)"
   ]
  },
  {
   "cell_type": "code",
   "execution_count": 40,
   "metadata": {},
   "outputs": [
    {
     "name": "stdout",
     "output_type": "stream",
     "text": [
      "(270, 2702)\n",
      "(70801, 270)\n"
     ]
    }
   ],
   "source": [
    "# 2a analise: erro do snapshot\n",
    "f_reconstructed = ae_test_2.auto_encoder.forward(\n",
    "    torch.tensor(projected_snapshots_normalized.T, dtype=torch.float32)\n",
    ")\n",
    "f_reconstructed_numpy = f_reconstructed.detach().numpy().T\n",
    "projected_snapshots_return = u_normalization_obj.inverse_transform(\n",
    "    f_reconstructed_numpy\n",
    ")\n",
    "print(projected_snapshots_return.shape)\n",
    "print(svd_step_randomized.u.shape)\n",
    "snapshots_returned = svd_step_randomized.u @ projected_snapshots_return\n",
    "\n",
    "import numpy as np\n",
    "\n",
    "snapshot_number = 2500\n",
    "\n",
    "np.linalg.norm(\n",
    "    snapshots[:, snapshot_number] - snapshots_returned[:, snapshot_number]\n",
    ") / np.linalg.norm(snapshots[:, snapshot_number], 2)\n",
    "\n",
    "vector = snapshots_returned[:, snapshot_number]\n",
    "insert_h5_vector(\n",
    "    vector,\n",
    "    params[\"snapshots\"],\n",
    ")\n",
    "\n",
    "vector = snapshots[:, snapshot_number]\n",
    "insert_h5_vector(vector, params[\"snapshots\"], vector_dir=\"original_vector\")"
   ]
  },
  {
   "cell_type": "code",
   "execution_count": null,
   "metadata": {},
   "outputs": [],
   "source": [
    "# TODO: train_test_split\n",
    "# TODO: organizar plots, geração de erros e dados\n",
    "# TODO: jogar no google docs\n",
    "# TODO: surrogate"
   ]
  }
 ],
 "metadata": {
  "kernelspec": {
   "display_name": "padme",
   "language": "python",
   "name": "padme"
  },
  "language_info": {
   "codemirror_mode": {
    "name": "ipython",
    "version": 3
   },
   "file_extension": ".py",
   "mimetype": "text/x-python",
   "name": "python",
   "nbconvert_exporter": "python",
   "pygments_lexer": "ipython3",
   "version": "3.11.2"
  }
 },
 "nbformat": 4,
 "nbformat_minor": 4
}
