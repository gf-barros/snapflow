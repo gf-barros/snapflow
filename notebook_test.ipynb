{
 "cells": [
  {
   "cell_type": "code",
   "execution_count": 1,
   "metadata": {},
   "outputs": [],
   "source": [
    "%load_ext autoreload\n",
    "%autoreload 2"
   ]
  },
  {
   "cell_type": "code",
   "execution_count": 8,
   "metadata": {},
   "outputs": [],
   "source": [
    "from yaml import safe_load, YAMLError\n",
    "from src.utils import setup_output_folder\n",
    "from src.snapshots import snapshots_assembly, data_normalization, insert_h5_vector\n",
    "from src.linear_reduction import SVD\n",
    "from src.nonlinear_reduction import AutoEncoder\n",
    "from src.data_split import DataSplitter"
   ]
  },
  {
   "cell_type": "code",
   "execution_count": 9,
   "metadata": {},
   "outputs": [],
   "source": [
    "with open(\"parameters.yaml\", \"r\") as stream:\n",
    "    try:\n",
    "        params = safe_load(stream)\n",
    "    except YAMLError as exc:\n",
    "        print(exc)"
   ]
  },
  {
   "cell_type": "code",
   "execution_count": 4,
   "metadata": {},
   "outputs": [
    {
     "data": {
      "text/plain": [
       "{'experiment_name': 'loss_5000',\n",
       " 'random_state': 42,\n",
       " 'normalization': {'snapshots': None,\n",
       "  'svd': 'min_max',\n",
       "  'autoencoder': None,\n",
       "  'surrogate': None},\n",
       " 'splitting': {'strategy': 'temporal',\n",
       "  'number_of_folds_or_splits': 2,\n",
       "  'train_size': 0.8,\n",
       "  'validation_size': 300,\n",
       "  'test_size': 0.1,\n",
       "  'gap': 0},\n",
       " 'snapshots': {'file_type_str': 'h5_fenics',\n",
       "  'folder': 'data/input',\n",
       "  'visualization_folder': 'data/visualization',\n",
       "  'file_name_contains': ['concentration'],\n",
       "  'dataset': None},\n",
       " 'svd': {'trunc_basis': 27,\n",
       "  'normalization': 'min_max',\n",
       "  'svd_type': 'randomized_svd',\n",
       "  'power_iterations': 1,\n",
       "  'oversampling': 20},\n",
       " 'auto_encoder': {'batch_size': 300,\n",
       "  'num_epochs': 1,\n",
       "  'learning_rate': '1e-4',\n",
       "  'weight_decay': '1e-8',\n",
       "  'loss_function': 'smooth_l1_loss',\n",
       "  'loss_parameters': {'beta': 0.2},\n",
       "  'num_workers': 2,\n",
       "  'number_of_hidden_layers': 5,\n",
       "  'hidden_layers_sizes': [256, 128, 64, 32, 16],\n",
       "  'hidden_layers_activation_function': ['leaky_relu',\n",
       "   'leaky_relu',\n",
       "   'leaky_relu',\n",
       "   'leaky_relu',\n",
       "   ''],\n",
       "  'hidden_layers_activation_function_parameters': [0.2, 0.2, 0.2, 0.2, 'None'],\n",
       "  'decoder_activation_function': 'sigmoid',\n",
       "  'decoder_activation_function_parameter': 'None'}}"
      ]
     },
     "execution_count": 4,
     "metadata": {},
     "output_type": "execute_result"
    }
   ],
   "source": [
    "params"
   ]
  },
  {
   "cell_type": "code",
   "execution_count": 10,
   "metadata": {},
   "outputs": [
    {
     "name": "stderr",
     "output_type": "stream",
     "text": [
      "2024-01-27 18:19:26,174 - src.snapshots - INFO - Starting choice of file type:\n",
      "2024-01-27 18:19:26,175 - src.snapshots - INFO - FEniCS HDF5 file selected.\n",
      "2024-01-27 18:19:26,176 - src.snapshots - INFO - Searching for files that containg the string 'concentration'.\n",
      "2024-01-27 18:19:26,186 - src.snapshots - INFO - 3000 snapshots found.\n"
     ]
    },
    {
     "name": "stderr",
     "output_type": "stream",
     "text": [
      "Loading Snapshots 2999: 100%|██████████| 2999/2999 [00:12<00:00, 246.90it/s]\n"
     ]
    },
    {
     "data": {
      "text/plain": [
       "(70801, 3000)"
      ]
     },
     "execution_count": 10,
     "metadata": {},
     "output_type": "execute_result"
    }
   ],
   "source": [
    "filenames, snapshots = snapshots_assembly(params[\"snapshots\"])\n",
    "snapshots.shape"
   ]
  },
  {
   "cell_type": "code",
   "execution_count": 37,
   "metadata": {},
   "outputs": [],
   "source": [
    "\n",
    "\n",
    "def pipeline_modes():\n",
    "    # setup directories\n",
    "    output_folder = setup_output_folder(params)\n",
    "\n",
    "    # high dimensional data\n",
    "    svd = SVD(snapshots, params, output_folder)\n",
    "    svd.fit()\n",
    "    svd.plot_singular_values(save_only=True)\n",
    "    spatial_modes = svd.u\n",
    "    print(f\"spatial modes dim: {spatial_modes.shape}\")\n",
    "\n",
    "    # train_test split\n",
    "    data_splitter = DataSplitter(params)\n",
    "    folded_data = data_splitter.preserve_test_data(spatial_modes)\n",
    "    train_data = folded_data[0][\"train\"]\n",
    "    test_data = folded_data[0][\"test\"] \n",
    "\n",
    "    # preprocess high dimensional data\n",
    "    normalized_spatial_train_modes, u_normalization_train_obj = data_normalization(\n",
    "    train_data, params, \"svd\", transpose=False\n",
    "    )    \n",
    "    print(f\"normalized spatial train modes dim: {normalized_spatial_train_modes.shape}\")\n",
    "\n",
    "    # fit high dimensional data\n",
    "    auto_encoder = AutoEncoder(normalized_spatial_train_modes, params, output_folder)\n",
    "    auto_encoder.fit()\n",
    "    auto_encoder.plot_quantities_per_epoch(\"avg_loss_by_epoch\")\n",
    "\n",
    "    # compute error for training data\n",
    "    normalized_train_predictions = auto_encoder.predict(normalized_spatial_train_modes)\n",
    "    train_predictions = u_normalization_train_obj.inverse_transform(normalized_train_predictions)\n",
    "\n",
    "    # TODO: Compute L2 norm for train data (train_predictions and train_data)\n",
    "\n",
    "\n",
    "    # compute error for test data\n",
    "    normalized_spatial_test_modes, u_normalization_test_obj = data_normalization(\n",
    "    test_data, params, \"svd\", transpose=False\n",
    "    )    \n",
    "    print(f\"normalized spatial test modes dim: {normalized_spatial_train_modes.shape}\")\n",
    "    normalized_test_predictions = auto_encoder.predict(normalized_spatial_test_modes)\n",
    "    test_predictions = u_normalization_test_obj.inverse_transform(normalized_test_predictions)\n",
    "\n",
    "    # TODO: Compute L2 norm for train data (train_predictions and train_data)\n",
    "\n",
    "    \n"
   ]
  },
  {
   "cell_type": "code",
   "execution_count": 38,
   "metadata": {},
   "outputs": [
    {
     "name": "stderr",
     "output_type": "stream",
     "text": [
      "2024-01-27 18:52:05,358 - src.data_split - INFO - -------------------- Starting standard train/test strategy --------------------\n",
      "2024-01-27 18:52:05,358 - src.data_split - INFO - -------------------- Starting standard train/validation strategy --------------------\n",
      "2024-01-27 18:52:05,366 - src.data_split - INFO - Number of folds: 1\n",
      "2024-01-27 18:52:05,367 - src.data_split - INFO - Dimensions of fold 0: (70801, 24)\n",
      "2024-01-27 18:52:05,368 - src.data_split - INFO - Dimensions of fold 0: (70801, 3)\n"
     ]
    },
    {
     "name": "stdout",
     "output_type": "stream",
     "text": [
      "(70801, 47)\n",
      "(47, 47)\n",
      "spatial modes dim: (70801, 27)\n",
      "normalized spatial train modes dim: (70801, 24)\n"
     ]
    },
    {
     "name": "stderr",
     "output_type": "stream",
     "text": [
      "2024-01-27 18:52:05,707 - src.nonlinear_reduction - INFO - -------------------- Starting training for AutoEncoder --------------------\n",
      "2024-01-27 18:52:05,708 - src.nonlinear_reduction - INFO -  # of data: torch.Size([24, 70801])\n",
      "2024-01-27 18:52:05,709 - src.nonlinear_reduction - INFO -  # of layers: 5\n",
      "2024-01-27 18:52:05,710 - src.nonlinear_reduction - INFO -  Encoder architecture: Sequential(\n",
      "  (0): Linear(in_features=70801, out_features=256, bias=True)\n",
      "  (1): LeakyReLU(negative_slope=0.2)\n",
      "  (2): Linear(in_features=256, out_features=128, bias=True)\n",
      "  (3): LeakyReLU(negative_slope=0.2)\n",
      "  (4): Linear(in_features=128, out_features=64, bias=True)\n",
      "  (5): LeakyReLU(negative_slope=0.2)\n",
      "  (6): Linear(in_features=64, out_features=32, bias=True)\n",
      "  (7): LeakyReLU(negative_slope=0.2)\n",
      "  (8): Linear(in_features=32, out_features=16, bias=True)\n",
      ")\n",
      "/home/gfbarros/anaconda3/envs/turbiditos_surrogate/lib/python3.10/site-packages/torch/nn/_reduction.py:42: UserWarning: size_average and reduce args will be deprecated, please use reduction='mean' instead.\n",
      "  warnings.warn(warning.format(ret))\n"
     ]
    },
    {
     "name": "stdout",
     "output_type": "stream",
     "text": [
      "<class 'torch.utils.data.dataloader.DataLoader'>\n"
     ]
    },
    {
     "name": "stderr",
     "output_type": "stream",
     "text": [
      "100%|██████████| 1/1 [00:00<00:00,  1.58it/s]\n"
     ]
    },
    {
     "name": "stdout",
     "output_type": "stream",
     "text": [
      "normalized spatial test modes dim: (70801, 24)\n"
     ]
    },
    {
     "data": {
      "image/png": "[encoded data removed]",
      "text/plain": [
       "<Figure size 640x480 with 1 Axes>"
      ]
     },
     "metadata": {},
     "output_type": "display_data"
    },
    {
     "data": {
      "image/png": "[encoded data removed]",
      "text/plain": [
       "<Figure size 640x480 with 1 Axes>"
      ]
     },
     "metadata": {},
     "output_type": "display_data"
    }
   ],
   "source": [
    "pipeline_modes()"
   ]
  },
  {
   "cell_type": "code",
   "execution_count": null,
   "metadata": {},
   "outputs": [],
   "source": [
    "svd_step_randomized = SVD(snapshots, params[\"svd\"])\n",
    "svd_step_randomized.fit()\n",
    "svd_step_randomized.plot_singular_values()"
   ]
  },
  {
   "cell_type": "code",
   "execution_count": null,
   "metadata": {},
   "outputs": [],
   "source": [
    "projected_snapshots = svd_step_randomized.u.T @ snapshots\n",
    "\n",
    "projected_snapshots_normalized, u_normalization_obj = data_normalization(\n",
    "    projected_snapshots, params[\"svd\"], transpose=False\n",
    ")  # min_max vetores singulares a esquerda\n",
    "projected_snapshots_normalized.shape"
   ]
  },
  {
   "cell_type": "code",
   "execution_count": null,
   "metadata": {},
   "outputs": [],
   "source": [
    "# u_normalized[0, :].max()"
   ]
  },
  {
   "cell_type": "code",
   "execution_count": null,
   "metadata": {},
   "outputs": [],
   "source": [
    "# vector = u_normalized[:, 0]\n",
    "# insert_h5_vector(\n",
    "#     vector,\n",
    "#     params[\"snapshots\"],\n",
    "# )"
   ]
  },
  {
   "cell_type": "code",
   "execution_count": null,
   "metadata": {},
   "outputs": [],
   "source": [
    "ae_test_2 = AutoEncoder(projected_snapshots_normalized, params[\"auto_encoder\"])\n",
    "ae_test_2.fit()\n",
    "\n",
    "# print(ae_test_2.auto_encoder.encoder)\n",
    "# print(ae_test_2.auto_encoder.decoder)"
   ]
  },
  {
   "cell_type": "code",
   "execution_count": null,
   "metadata": {},
   "outputs": [],
   "source": [
    "ae_test_2.plot_quantities_per_epoch(\"avg_loss_by_epoch\")"
   ]
  },
  {
   "cell_type": "code",
   "execution_count": null,
   "metadata": {},
   "outputs": [],
   "source": [
    "# 1a analise: erro do autoencoder (apenas)\n",
    "\n",
    "import torch\n",
    "\n",
    "f_original_autoencoder = projected_snapshots_normalized[:, 0]\n",
    "f_reconstructed = ae_test_2.auto_encoder.forward(\n",
    "    torch.tensor(f_original_autoencoder, dtype=torch.float32)\n",
    ")\n",
    "print(f_reconstructed.shape)\n",
    "\n",
    "import numpy as np\n",
    "\n",
    "np.linalg.norm(\n",
    "    f_original_autoencoder - f_reconstructed.detach().numpy()\n",
    ") / np.linalg.norm(f_original_autoencoder, 2)"
   ]
  },
  {
   "cell_type": "code",
   "execution_count": null,
   "metadata": {},
   "outputs": [],
   "source": [
    "# 2a analise: erro do snapshot\n",
    "f_reconstructed = ae_test_2.auto_encoder.forward(\n",
    "    torch.tensor(projected_snapshots_normalized.T, dtype=torch.float32)\n",
    ")\n",
    "f_reconstructed_numpy = f_reconstructed.detach().numpy().T\n",
    "projected_snapshots_return = u_normalization_obj.inverse_transform(\n",
    "    f_reconstructed_numpy\n",
    ")\n",
    "print(projected_snapshots_return.shape)\n",
    "print(svd_step_randomized.u.shape)\n",
    "snapshots_returned = svd_step_randomized.u @ projected_snapshots_return\n",
    "\n",
    "import numpy as np\n",
    "\n",
    "snapshot_number = 2500\n",
    "\n",
    "np.linalg.norm(\n",
    "    snapshots[:, snapshot_number] - snapshots_returned[:, snapshot_number]\n",
    ") / np.linalg.norm(snapshots[:, snapshot_number], 2)\n",
    "\n",
    "vector = snapshots_returned[:, snapshot_number]\n",
    "insert_h5_vector(\n",
    "    vector,\n",
    "    params[\"snapshots\"],\n",
    ")\n",
    "\n",
    "vector = snapshots[:, snapshot_number]\n",
    "insert_h5_vector(vector, params[\"snapshots\"], vector_dir=\"original_vector\")"
   ]
  },
  {
   "cell_type": "code",
   "execution_count": null,
   "metadata": {},
   "outputs": [],
   "source": [
    "# TODO: train_test_split\n",
    "# TODO: organizar plots, geração de erros e dados\n",
    "# TODO: jogar no google docs\n",
    "# TODO: surrogate"
   ]
  },
  {
   "cell_type": "code",
   "execution_count": null,
   "metadata": {},
   "outputs": [],
   "source": []
  }
 ],
 "metadata": {
  "kernelspec": {
   "display_name": "turbiditos_surrogate_vscode",
   "language": "python",
   "name": "turbiditos_surrogate"
  },
  "language_info": {
   "codemirror_mode": {
    "name": "ipython",
    "version": 3
   },
   "file_extension": ".py",
   "mimetype": "text/x-python",
   "name": "python",
   "nbconvert_exporter": "python",
   "pygments_lexer": "ipython3",
   "version": "3.10.13"
  }
 },
 "nbformat": 4,
 "nbformat_minor": 4
}
