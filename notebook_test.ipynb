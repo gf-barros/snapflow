{
 "cells": [
  {
   "cell_type": "code",
   "execution_count": 1,
   "metadata": {},
   "outputs": [],
   "source": [
    "%load_ext autoreload\n",
    "%autoreload 2"
   ]
  },
  {
   "cell_type": "code",
   "execution_count": 2,
   "metadata": {},
   "outputs": [],
   "source": [
    "from yaml import safe_load, YAMLError\n",
    "from src import snapshots_assembly, SVD"
   ]
  },
  {
   "cell_type": "code",
   "execution_count": 3,
   "metadata": {},
   "outputs": [],
   "source": [
    "with open(\"parameters.yaml\", \"r\") as stream:\n",
    "    try:\n",
    "        params = safe_load(stream)\n",
    "    except YAMLError as exc:\n",
    "        print(exc)"
   ]
  },
  {
   "cell_type": "code",
   "execution_count": 4,
   "metadata": {},
   "outputs": [
    {
     "data": {
      "text/plain": [
       "{'snapshots': {'file_type_str': 'h5_fenics',\n",
       "  'folder': 'data',\n",
       "  'file_name_contains': ['concentration'],\n",
       "  'dataset': None}}"
      ]
     },
     "execution_count": 4,
     "metadata": {},
     "output_type": "execute_result"
    }
   ],
   "source": [
    "params"
   ]
  },
  {
   "cell_type": "code",
   "execution_count": 5,
   "metadata": {},
   "outputs": [
    {
     "name": "stderr",
     "output_type": "stream",
     "text": [
      "2024-01-10 11:24:38,327 - src.snapshots - INFO - Starting choice of file type:\n",
      "2024-01-10 11:24:38,328 - src.snapshots - INFO - FEniCS HDF5 file selected.\n",
      "Loading Snapshots 2701: 100%|██████████| 2701/2701 [02:03<00:00, 21.83it/s]\n"
     ]
    }
   ],
   "source": [
    "filenames, snapshots = snapshots_assembly(params[\"snapshots\"])"
   ]
  },
  {
   "cell_type": "code",
   "execution_count": 17,
   "metadata": {},
   "outputs": [
    {
     "name": "stdout",
     "output_type": "stream",
     "text": [
      "a\n"
     ]
    },
    {
     "data": {
      "text/plain": [
       "(2702,)"
      ]
     },
     "execution_count": 17,
     "metadata": {},
     "output_type": "execute_result"
    }
   ],
   "source": [
    "svd_params = {\n",
    "    \"preprocessing_type\": \"min_max\",\n",
    "    \"trunc_basis\": snapshots.shape[1],\n",
    "    \"svd_type\": \"full_svd\",  # [\"full_svd\", \"randomized_svd\"]\n",
    "    \"power_iterations\": 1,\n",
    "    \"oversampling\": 20,\n",
    "}\n",
    "\n",
    "svd_step = SVD(snapshots, svd_params)\n",
    "svd_step.fit()\n",
    "svd_step.s.shape"
   ]
  },
  {
   "cell_type": "code",
   "execution_count": 22,
   "metadata": {},
   "outputs": [
    {
     "name": "stdout",
     "output_type": "stream",
     "text": [
      "b\n"
     ]
    },
    {
     "data": {
      "text/plain": [
       "(220,)"
      ]
     },
     "execution_count": 22,
     "metadata": {},
     "output_type": "execute_result"
    }
   ],
   "source": [
    "svd_params = {\n",
    "    \"trunc_basis\": 200,\n",
    "    \"svd_type\": \"randomized_svd\",  # [\"full_svd\", \"randomized_svd\"]\n",
    "    \"power_iterations\": 1,\n",
    "    \"oversampling\": 20,\n",
    "}\n",
    "\n",
    "svd_step_random = SVD(snapshots, svd_params)\n",
    "svd_step_random.fit()\n",
    "svd_step_random.s.shape"
   ]
  },
  {
   "cell_type": "code",
   "execution_count": 25,
   "metadata": {},
   "outputs": [
    {
     "data": {
      "text/plain": [
       "array([-9.09494702e-13, -1.13686838e-12, -1.13686838e-13,  5.68434189e-13,\n",
       "       -9.09494702e-13,  3.41060513e-13, -1.13686838e-13, -1.13686838e-13,\n",
       "       -5.68434189e-14,  0.00000000e+00,  8.52651283e-14,  5.68434189e-14,\n",
       "        2.84217094e-14, -2.84217094e-14,  5.68434189e-14, -5.68434189e-14,\n",
       "       -8.52651283e-14, -2.84217094e-14, -1.13686838e-13, -1.42108547e-14,\n",
       "        1.13686838e-13, -9.94759830e-14,  2.84217094e-14,  2.84217094e-14,\n",
       "       -8.52651283e-14, -1.56319402e-13, -5.68434189e-14, -1.70530257e-13,\n",
       "       -9.94759830e-14, -8.52651283e-14, -8.52651283e-14, -2.13162821e-13,\n",
       "       -2.13162821e-13, -2.77111667e-13, -1.70530257e-13, -3.26849658e-13,\n",
       "       -3.97903932e-13, -4.54747351e-13, -1.27897692e-13, -3.76587650e-13,\n",
       "       -1.53477231e-12, -7.24753590e-13, -1.41398004e-12, -7.38964445e-13,\n",
       "       -4.82458518e-12, -1.98951966e-12, -9.52127266e-13, -4.04298817e-12,\n",
       "       -2.13873363e-12, -3.43902684e-12, -6.30961949e-12, -5.16919840e-12,\n",
       "       -3.52784468e-12, -2.77289303e-11, -5.73763259e-12, -7.06279479e-12,\n",
       "       -3.17506021e-11, -1.14539489e-11, -1.92095229e-11, -2.08970619e-11,\n",
       "       -9.25837185e-12, -1.21858079e-11, -4.07780476e-11, -2.69260170e-11,\n",
       "       -3.05107051e-11, -1.15694121e-10, -4.39079884e-11, -1.36697764e-10,\n",
       "       -1.62991398e-10, -1.82495796e-10, -1.21470833e-10, -8.80646667e-11,\n",
       "       -3.66545905e-10, -5.32432765e-10, -4.46110704e-10, -3.80859788e-10,\n",
       "       -2.69173128e-10, -2.69807288e-10, -9.03852992e-10, -1.15490906e-09,\n",
       "       -1.11800702e-09, -5.42087264e-10, -4.68286743e-10, -1.36233780e-09,\n",
       "       -1.39852219e-09, -1.39979228e-09, -9.36314137e-10, -3.21492877e-09,\n",
       "       -4.45697523e-09, -2.72697953e-09, -2.32424568e-09, -2.35327491e-09,\n",
       "       -3.92566335e-09, -1.35472433e-09, -8.82491769e-09, -2.92674951e-09,\n",
       "       -8.47560777e-09, -5.18095256e-09, -5.43180789e-09, -4.57506566e-09,\n",
       "       -4.16282564e-09, -6.03085937e-09, -6.94894453e-09, -1.31498341e-08,\n",
       "       -8.97184993e-09, -3.70857123e-08, -1.85085138e-08, -1.64917928e-08,\n",
       "       -6.88079327e-08, -5.22849355e-08, -6.67459057e-08, -3.22467208e-08,\n",
       "       -1.21112527e-07, -3.86842389e-08, -2.89113720e-08, -1.07750781e-07,\n",
       "       -1.53234930e-07, -8.52242996e-08, -8.17938659e-08, -3.01444152e-07,\n",
       "       -1.45392374e-07, -2.05168290e-07, -3.77296681e-07, -5.52104090e-07,\n",
       "       -2.41513282e-07, -3.67993589e-07, -1.67908336e-07, -6.48021054e-07,\n",
       "       -1.51463162e-07, -1.10644506e-06, -8.16731201e-07, -5.20774905e-07,\n",
       "       -4.47607373e-07, -7.51059082e-07, -7.47333270e-07, -5.82701031e-07,\n",
       "       -1.97428816e-06, -2.28589188e-06, -2.51290914e-06, -1.40430814e-06,\n",
       "       -2.01712863e-06, -2.45121169e-06, -2.84938665e-06, -2.52815341e-06,\n",
       "       -6.45172779e-06, -5.30720819e-06, -7.43306400e-06, -4.45373109e-06,\n",
       "       -1.66623220e-05, -2.00761573e-05, -8.17720255e-06, -5.19459696e-06,\n",
       "       -2.35188841e-05, -7.31821420e-06, -2.89451355e-05, -2.53873179e-05,\n",
       "       -2.13203380e-05, -2.36023161e-05, -6.39233666e-05, -2.55612335e-05,\n",
       "       -4.66141876e-05, -3.90246737e-05, -2.57640350e-05, -9.69836292e-05,\n",
       "       -3.91691785e-05, -6.02106930e-05, -1.19751901e-04, -5.32455089e-05,\n",
       "       -6.84658690e-05, -1.30113813e-04, -1.42989074e-04, -1.36972387e-04,\n",
       "       -2.20689732e-04, -5.86691006e-04, -2.50395878e-04, -4.15223705e-04,\n",
       "       -2.44219413e-04, -5.29917948e-04, -3.36170242e-04, -4.02932727e-04,\n",
       "       -4.71495965e-04, -3.20828752e-04, -6.99699258e-04, -6.87586050e-04,\n",
       "       -8.28889908e-04, -3.36048542e-04, -1.41725577e-03, -1.86379679e-03,\n",
       "       -1.76186474e-03, -9.24838630e-04, -1.15238196e-03, -2.08200349e-03,\n",
       "       -3.10938679e-03, -1.39340514e-03, -6.25639619e-03, -3.12359062e-03,\n",
       "       -1.92752813e-03, -3.40269264e-03, -4.23139896e-03, -9.15526263e-03,\n",
       "       -4.04093417e-03, -5.64663812e-03, -4.17219449e-03, -7.00528026e-03,\n",
       "       -1.15674055e-02, -8.59990880e-03, -1.05127036e-02, -4.62608755e-03,\n",
       "       -1.85439157e-02, -7.89637866e-03, -1.24007284e-02, -2.01009542e-02,\n",
       "       -2.21618824e-02, -1.88973727e-02, -1.86023277e-02, -2.44104132e-02,\n",
       "       -2.80696597e-02, -3.27913078e-02, -4.89860822e-02, -5.85866939e-02])"
      ]
     },
     "execution_count": 25,
     "metadata": {},
     "output_type": "execute_result"
    }
   ],
   "source": [
    "svd_step_random.s[:220] - svd_step.s[:220]"
   ]
  },
  {
   "cell_type": "code",
   "execution_count": 29,
   "metadata": {},
   "outputs": [
    {
     "data": {
      "image/png": "[encoded data removed]",
      "text/plain": [
       "<Figure size 640x480 with 1 Axes>"
      ]
     },
     "metadata": {},
     "output_type": "display_data"
    }
   ],
   "source": [
    "import matplotlib.pyplot as plt\n",
    "\n",
    "plt.plot(svd_step_random.s[:220])\n",
    "plt.plot(svd_step.s[:220], \"--\")\n",
    "plt.show()"
   ]
  },
  {
   "cell_type": "code",
   "execution_count": null,
   "metadata": {},
   "outputs": [],
   "source": []
  }
 ],
 "metadata": {
  "kernelspec": {
   "display_name": "padme",
   "language": "python",
   "name": "padme"
  },
  "language_info": {
   "codemirror_mode": {
    "name": "ipython",
    "version": 3
   },
   "file_extension": ".py",
   "mimetype": "text/x-python",
   "name": "python",
   "nbconvert_exporter": "python",
   "pygments_lexer": "ipython3",
   "version": "3.11.2"
  }
 },
 "nbformat": 4,
 "nbformat_minor": 2
}
