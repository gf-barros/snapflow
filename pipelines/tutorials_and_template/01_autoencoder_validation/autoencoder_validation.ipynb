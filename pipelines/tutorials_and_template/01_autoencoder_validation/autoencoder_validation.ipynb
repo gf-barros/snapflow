{
 "cells": [
  {
   "cell_type": "markdown",
   "id": "ada40dff",
   "metadata": {},
   "source": [
    "## Tutorial 01 - Autoencoder validation\n",
    "\n",
    "In this tutorial, we are going to test our implementations of the SVD factorization and the AutoEncoder.\n",
    "\n",
    "We start by running our mandatory preamble for properly defining directions to our source code."
   ]
  },
  {
   "cell_type": "code",
   "execution_count": 1,
   "id": "8dc889ac",
   "metadata": {},
   "outputs": [],
   "source": [
    "%load_ext autoreload\n",
    "%autoreload 2\n",
    "\n",
    "from pathlib import Path\n",
    "import sys\n",
    "\n",
    "current_working_directory = Path.cwd()\n",
    "root_directory = current_working_directory.parent.parent.parent\n",
    "sys.path.append(str(root_directory))"
   ]
  },
  {
   "cell_type": "markdown",
   "id": "1e93d3c9",
   "metadata": {},
   "source": [
    "### Loading the modules for the pipeline\n",
    "\n",
    "Then, we load all modules required for this experiment"
   ]
  },
  {
   "cell_type": "code",
   "execution_count": 2,
   "id": "3cdb3445",
   "metadata": {},
   "outputs": [],
   "source": [
    "from yaml import safe_load, YAMLError\n",
    "from snapflow.utils import setup_output_folder, timing_decorator\n",
    "from snapflow.snapshots import snapshots_assembly, data_normalization\n",
    "from snapflow.linear_reduction import SVD\n",
    "from snapflow.nonlinear_reduction import AutoEncoder\n",
    "from snapflow.data_split import DataSplitter\n",
    "from snapflow.postprocessing import compute_errors, save_paraview_visualization"
   ]
  },
  {
   "cell_type": "markdown",
   "id": "b62cf199",
   "metadata": {},
   "source": [
    "### Load parameters file, define experiment name (if needed) and load files"
   ]
  },
  {
   "cell_type": "code",
   "execution_count": 3,
   "id": "1a4b63e1",
   "metadata": {},
   "outputs": [],
   "source": [
    "with open(\"parameters.yaml\", \"r\") as stream:\n",
    "    try:\n",
    "        params = safe_load(stream)\n",
    "    except YAMLError as exc:\n",
    "        print(exc)\n",
    "\n",
    "if params[\"origin_experiment_name\"] == \"input\":\n",
    "     params[\"experiment_name\"] = input(\"Experiment name: \")\n",
    "\n",
    "filenames, snapshots = snapshots_assembly(params[\"snapshots\"])"
   ]
  },
  {
   "cell_type": "markdown",
   "id": "5543ffe3",
   "metadata": {},
   "source": [
    "### Setup the pipeline\n",
    "\n",
    "Now, we create a function to execute the whole pipeline. The function itself is not mandatory, but it could be interesting to isolate the variables into the scope of the pipeline. We are going to time the execution of the pipeline using the `@timing_decorator`.\n",
    "\n",
    "In this pipeline, we setup two different approaches: the `backtest` and the `inference`. The backtest is often used when we want to evaluate the components of the pipeline separately. It might be necessary to change the ML model, perform hyperparameter tuning, validate hypothesis and so on. Once everything is setup, we can perform the inference, by training our selected model with the training data and testing with the test set. It is good practice to remove the `test` set during backtest, to avoid overfitting into the test set, leading to misleading performance of the model before deploying it into production. \n",
    "\n",
    "That is, whenever we are performing backtest, the `train` and `test` are already split at first. Then, during backtest, we split the total `train` data into `train` and `validation` data and perform our backtest. As soon as the model is chosen and defined, we can train the model with the total `train` data and analyze its performance with the `test` set."
   ]
  },
  {
   "cell_type": "code",
   "execution_count": 4,
   "id": "2007698e",
   "metadata": {
    "lines_to_end_of_cell_marker": 2
   },
   "outputs": [],
   "source": [
    "@timing_decorator\n",
    "def pipeline_modes(backtest_flag = True, inference_flag = False):\n",
    "    # setup directories\n",
    "    output_folder = setup_output_folder(params)\n",
    "\n",
    "    #train_test split\n",
    "    data_splitter = DataSplitter(params)\n",
    "    folded_data = data_splitter.split_data(snapshots, train_test_flag=True)\n",
    "    train_data = folded_data[0][\"train\"]\n",
    "    test_data = folded_data[0][\"test\"] \n",
    "    total_train_indices = folded_data[0][\"train_indices\"]\n",
    "    total_test_indices = folded_data[0][\"test_indices\"]\n",
    "    save_paraview_visualization(train_data[:, 0], output_folder, \"train_split_ic\")\n",
    "    save_paraview_visualization(test_data[:, 0], output_folder, \"test_split_ic\")\n",
    "\n",
    "    # First Reduction\n",
    "    svd_train = SVD(train_data, params, output_folder=output_folder, analysis_type=\"train\")\n",
    "    svd_train.fit()\n",
    "    svd_train.plot_singular_values()\n",
    "    save_paraview_visualization(svd_train.u[:, 0], output_folder, \"train_mode_0\")\n",
    "\n",
    "    svd_test = SVD(test_data, params, output_folder=output_folder, analysis_type=\"test\")\n",
    "    svd_test.fit()\n",
    "    svd_test.plot_singular_values() \n",
    "    save_paraview_visualization(svd_train.u[:, 0], output_folder, \"test_mode_0\")\n",
    "\n",
    "    projected_train_data = svd_train.u.T @ train_data\n",
    "    projected_test_data = svd_test.u.T @ test_data\n",
    "\n",
    "    if backtest_flag:\n",
    "        # train_val split\n",
    "        model_selection_data = data_splitter.split_data(projected_train_data, train_test_flag=False)\n",
    "\n",
    "        # fold artifacts:\n",
    "        for fold in model_selection_data.keys():\n",
    "            fold_train_data = model_selection_data[fold][\"train\"]\n",
    "            fold_train_indices = model_selection_data[fold][\"train_indices\"]\n",
    "            fold_validation_data = model_selection_data[fold][\"validation\"]\n",
    "            fold_validation_indices = model_selection_data[fold][\"validation_indices\"]\n",
    "\n",
    "\n",
    "            # normalize training and validation data\n",
    "            normalized_projected_train_data, normalization_projected_train_obj = data_normalization(\n",
    "            fold_train_data, params, \"auto_encoder\", transpose=False\n",
    "            )    \n",
    "\n",
    "            # fit high dimensional data\n",
    "            auto_encoder = AutoEncoder(normalized_projected_train_data, params, output_folder)\n",
    "            auto_encoder.fit()\n",
    "            auto_encoder.plot_quantities_per_epoch(\"avg_loss_by_epoch\", fold)\n",
    "\n",
    "            # compute error for training data\n",
    "            normalized_train_predictions = auto_encoder.predict(normalized_projected_train_data)\n",
    "            train_predictions = normalization_projected_train_obj.inverse_transform(normalized_train_predictions)\n",
    "            high_dimensional_train_predictions = svd_train.u @ train_predictions\n",
    "            high_dimensional_fold_train_data = svd_train.u @ fold_train_data\n",
    "            save_paraview_visualization(high_dimensional_train_predictions[:, 0], output_folder, f\"postprocessed_prediction_train_{fold_train_indices[0]}_fold_{fold}\")\n",
    "            compute_errors(fold, high_dimensional_train_predictions, high_dimensional_fold_train_data, fold_train_indices, output_folder, analysis_type=\"train\", modeling_type=\"backtest\")\n",
    "\n",
    "            # compute error for validation data\n",
    "            if fold_validation_data is not None:\n",
    "                normalized_projected_validation_data, normalization_projected_validation_obj = data_normalization(\n",
    "                fold_validation_data, params, \"auto_encoder\", transpose=False\n",
    "                )    \n",
    "                normalized_validation_predictions = auto_encoder.predict(normalized_projected_validation_data)\n",
    "                validation_predictions = normalization_projected_validation_obj.inverse_transform(normalized_validation_predictions)\n",
    "                high_dimensional_validation_predictions = svd_train.u @ validation_predictions\n",
    "                high_dimensional_fold_validation_data = svd_train.u @ fold_validation_data\n",
    "                save_paraview_visualization(high_dimensional_validation_predictions[:, 0], output_folder, f\"postprocessed_prediction_validation_{fold_train_indices[0]}_fold_{fold}\")\n",
    "                compute_errors(fold, high_dimensional_validation_predictions, high_dimensional_fold_validation_data, fold_validation_indices, output_folder, analysis_type=\"train\", modeling_type=\"backtest\")\n",
    "\n",
    "    if inference_flag:\n",
    "            # train for all data\n",
    "            total_train_indices = folded_data[0][\"train_indices\"]\n",
    "            total_test_indices = folded_data[0][\"test_indices\"]\n",
    "\n",
    "            # normalize training and data\n",
    "            total_normalized_spatial_train_modes, u_normalization_total_train_obj = data_normalization(\n",
    "            total_train_data, params, \"svd\", transpose=False\n",
    "            )    \n",
    "            total_normalized_spatial_test_modes, u_normalization_total_test_obj = data_normalization(\n",
    "            total_test_data, params, \"svd\", transpose=False\n",
    "            )    \n",
    "            print(f\"normalized total spatial train modes dim: {total_normalized_spatial_train_modes.shape}\")\n",
    "\n",
    "            # fit high dimensional data\n",
    "            auto_encoder = AutoEncoder(total_normalized_spatial_train_modes, params, output_folder)\n",
    "            auto_encoder.fit()\n",
    "            auto_encoder.plot_quantities_per_epoch(\"avg_loss_by_epoch\")\n",
    "\n",
    "            # compute error for training data\n",
    "            total_normalized_train_predictions = auto_encoder.predict(total_normalized_spatial_train_modes)\n",
    "            total_train_predictions = u_normalization_total_train_obj.inverse_transform(total_normalized_train_predictions)\n",
    "            compute_errors(fold, total_train_predictions, 0, total_train_indices, output_folder, analysis_type=\"train\", modeling_type=\"inference\")\n",
    "\n",
    "            # compute error for test data\n",
    "            total_normalized_test_predictions = auto_encoder.predict(total_normalized_spatial_test_modes)\n",
    "            total_test_predictions = u_normalization_total_test_obj.inverse_transform(total_normalized_test_predictions)\n",
    "            compute_errors(fold, total_test_predictions, 0, total_test_indices, output_folder, paraview_plot=\"first\", analysis_type=\"test\", modeling_type=\"inference\")\n"
   ]
  },
  {
   "cell_type": "code",
   "execution_count": 5,
   "id": "5aed8593",
   "metadata": {},
   "outputs": [
    {
     "ename": "KeyboardInterrupt",
     "evalue": "",
     "output_type": "error",
     "traceback": [
      "\u001b[0;31m---------------------------------------------------------------------------\u001b[0m",
      "\u001b[0;31mKeyboardInterrupt\u001b[0m                         Traceback (most recent call last)",
      "Cell \u001b[0;32mIn[5], line 1\u001b[0m\n\u001b[0;32m----> 1\u001b[0m \u001b[43mpipeline_modes\u001b[49m\u001b[43m(\u001b[49m\u001b[43minference_flag\u001b[49m\u001b[38;5;241;43m=\u001b[39;49m\u001b[38;5;28;43;01mFalse\u001b[39;49;00m\u001b[43m)\u001b[49m\n",
      "File \u001b[0;32m~/Documents/codes/posdoc/sciml_surrogate_factory/snapflow/utils.py:112\u001b[0m, in \u001b[0;36mtiming_decorator.<locals>.wrapper\u001b[0;34m(*args, **kwargs)\u001b[0m\n\u001b[1;32m    109\u001b[0m     wrapper\u001b[38;5;241m.\u001b[39m\u001b[38;5;18m__dict__\u001b[39m[\u001b[38;5;124m\"\u001b[39m\u001b[38;5;124mfunction_times\u001b[39m\u001b[38;5;124m\"\u001b[39m] \u001b[38;5;241m=\u001b[39m {}\n\u001b[1;32m    111\u001b[0m start_time \u001b[38;5;241m=\u001b[39m time\u001b[38;5;241m.\u001b[39mtime()\n\u001b[0;32m--> 112\u001b[0m result \u001b[38;5;241m=\u001b[39m \u001b[43mfunc\u001b[49m\u001b[43m(\u001b[49m\u001b[38;5;241;43m*\u001b[39;49m\u001b[43margs\u001b[49m\u001b[43m,\u001b[49m\u001b[43m \u001b[49m\u001b[38;5;241;43m*\u001b[39;49m\u001b[38;5;241;43m*\u001b[39;49m\u001b[43mkwargs\u001b[49m\u001b[43m)\u001b[49m\n\u001b[1;32m    113\u001b[0m end_time \u001b[38;5;241m=\u001b[39m time\u001b[38;5;241m.\u001b[39mtime()\n\u001b[1;32m    114\u001b[0m elapsed_time \u001b[38;5;241m=\u001b[39m end_time \u001b[38;5;241m-\u001b[39m start_time\n",
      "Cell \u001b[0;32mIn[4], line 18\u001b[0m, in \u001b[0;36mpipeline_modes\u001b[0;34m(backtest_flag, inference_flag)\u001b[0m\n\u001b[1;32m     16\u001b[0m \u001b[38;5;66;03m# First Reduction\u001b[39;00m\n\u001b[1;32m     17\u001b[0m svd_train \u001b[38;5;241m=\u001b[39m SVD(train_data, params, output_folder\u001b[38;5;241m=\u001b[39moutput_folder, analysis_type\u001b[38;5;241m=\u001b[39m\u001b[38;5;124m\"\u001b[39m\u001b[38;5;124mtrain\u001b[39m\u001b[38;5;124m\"\u001b[39m)\n\u001b[0;32m---> 18\u001b[0m \u001b[43msvd_train\u001b[49m\u001b[38;5;241;43m.\u001b[39;49m\u001b[43mfit\u001b[49m\u001b[43m(\u001b[49m\u001b[43m)\u001b[49m\n\u001b[1;32m     19\u001b[0m svd_train\u001b[38;5;241m.\u001b[39mplot_singular_values()\n\u001b[1;32m     20\u001b[0m save_paraview_visualization(svd_train\u001b[38;5;241m.\u001b[39mu[:, \u001b[38;5;241m0\u001b[39m], output_folder, \u001b[38;5;124m\"\u001b[39m\u001b[38;5;124mtrain_mode_0\u001b[39m\u001b[38;5;124m\"\u001b[39m)\n",
      "File \u001b[0;32m~/Documents/codes/posdoc/sciml_surrogate_factory/snapflow/utils.py:112\u001b[0m, in \u001b[0;36mtiming_decorator.<locals>.wrapper\u001b[0;34m(*args, **kwargs)\u001b[0m\n\u001b[1;32m    109\u001b[0m     wrapper\u001b[38;5;241m.\u001b[39m\u001b[38;5;18m__dict__\u001b[39m[\u001b[38;5;124m\"\u001b[39m\u001b[38;5;124mfunction_times\u001b[39m\u001b[38;5;124m\"\u001b[39m] \u001b[38;5;241m=\u001b[39m {}\n\u001b[1;32m    111\u001b[0m start_time \u001b[38;5;241m=\u001b[39m time\u001b[38;5;241m.\u001b[39mtime()\n\u001b[0;32m--> 112\u001b[0m result \u001b[38;5;241m=\u001b[39m \u001b[43mfunc\u001b[49m\u001b[43m(\u001b[49m\u001b[38;5;241;43m*\u001b[39;49m\u001b[43margs\u001b[49m\u001b[43m,\u001b[49m\u001b[43m \u001b[49m\u001b[38;5;241;43m*\u001b[39;49m\u001b[38;5;241;43m*\u001b[39;49m\u001b[43mkwargs\u001b[49m\u001b[43m)\u001b[49m\n\u001b[1;32m    113\u001b[0m end_time \u001b[38;5;241m=\u001b[39m time\u001b[38;5;241m.\u001b[39mtime()\n\u001b[1;32m    114\u001b[0m elapsed_time \u001b[38;5;241m=\u001b[39m end_time \u001b[38;5;241m-\u001b[39m start_time\n",
      "File \u001b[0;32m~/Documents/codes/posdoc/sciml_surrogate_factory/snapflow/linear_reduction.py:104\u001b[0m, in \u001b[0;36mSVD.fit\u001b[0;34m(self)\u001b[0m\n\u001b[1;32m    102\u001b[0m     \u001b[38;5;28mself\u001b[39m\u001b[38;5;241m.\u001b[39m__svd()\n\u001b[1;32m    103\u001b[0m \u001b[38;5;28;01mcase\u001b[39;00m \u001b[38;5;124m\"\u001b[39m\u001b[38;5;124mrandomized_svd\u001b[39m\u001b[38;5;124m\"\u001b[39m:\n\u001b[0;32m--> 104\u001b[0m     \u001b[38;5;28;43mself\u001b[39;49m\u001b[38;5;241;43m.\u001b[39;49m\u001b[43m__randomized_svd\u001b[49m\u001b[43m(\u001b[49m\u001b[43m)\u001b[49m\n",
      "File \u001b[0;32m~/Documents/codes/posdoc/sciml_surrogate_factory/snapflow/linear_reduction.py:84\u001b[0m, in \u001b[0;36mSVD.__randomized_svd\u001b[0;34m(self)\u001b[0m\n\u001b[1;32m     80\u001b[0m p_random_vectors \u001b[38;5;241m=\u001b[39m np\u001b[38;5;241m.\u001b[39mrandom\u001b[38;5;241m.\u001b[39mrandn(\n\u001b[1;32m     81\u001b[0m     \u001b[38;5;28mself\u001b[39m\u001b[38;5;241m.\u001b[39mdata\u001b[38;5;241m.\u001b[39mshape[\u001b[38;5;241m1\u001b[39m], basis_vectors \u001b[38;5;241m+\u001b[39m oversampling\n\u001b[1;32m     82\u001b[0m )\n\u001b[1;32m     83\u001b[0m z_projected_matrix \u001b[38;5;241m=\u001b[39m \u001b[38;5;28mself\u001b[39m\u001b[38;5;241m.\u001b[39mdata \u001b[38;5;241m@\u001b[39m p_random_vectors\n\u001b[0;32m---> 84\u001b[0m \u001b[38;5;28;01mfor\u001b[39;00m _ \u001b[38;5;129;01min\u001b[39;00m \u001b[38;5;28;43mrange\u001b[39;49m\u001b[43m(\u001b[49m\u001b[43mpower_iterations\u001b[49m\u001b[43m)\u001b[49m:\n\u001b[1;32m     85\u001b[0m     z_projected_matrix \u001b[38;5;241m=\u001b[39m \u001b[38;5;28mself\u001b[39m\u001b[38;5;241m.\u001b[39mdata \u001b[38;5;241m@\u001b[39m (\u001b[38;5;28mself\u001b[39m\u001b[38;5;241m.\u001b[39mdata\u001b[38;5;241m.\u001b[39mT \u001b[38;5;241m@\u001b[39m z_projected_matrix)\n\u001b[1;32m     86\u001b[0m q_values, _ \u001b[38;5;241m=\u001b[39m np\u001b[38;5;241m.\u001b[39mlinalg\u001b[38;5;241m.\u001b[39mqr(z_projected_matrix, mode\u001b[38;5;241m=\u001b[39m\u001b[38;5;124m\"\u001b[39m\u001b[38;5;124mreduced\u001b[39m\u001b[38;5;124m\"\u001b[39m)\n",
      "\u001b[0;31mKeyboardInterrupt\u001b[0m: "
     ]
    }
   ],
   "source": [
    "%%capture\n",
    "pipeline_modes(inference_flag=False)"
   ]
  },
  {
   "cell_type": "code",
   "execution_count": null,
   "id": "bd077591",
   "metadata": {
    "lines_to_next_cell": 0
   },
   "outputs": [],
   "source": [
    "# TODO: jogar no google docs\n",
    "# TODO: Save e load do modelo\n",
    "# TODO: Plotters e cálculos de erros devem ser classe?\n",
    "# TODO: plots de erro estão errados\n",
    "# TODO: surrogate"
   ]
  },
  {
   "cell_type": "code",
   "execution_count": null,
   "id": "b5a305ea",
   "metadata": {
    "lines_to_next_cell": 2
   },
   "outputs": [],
   "source": []
  }
 ],
 "metadata": {
  "kernelspec": {
   "display_name": "turbiditos_surrogate_vscode",
   "language": "python",
   "name": "turbiditos_surrogate"
  },
  "language_info": {
   "codemirror_mode": {
    "name": "ipython",
    "version": 3
   },
   "file_extension": ".py",
   "mimetype": "text/x-python",
   "name": "python",
   "nbconvert_exporter": "python",
   "pygments_lexer": "ipython3",
   "version": "3.10.13"
  }
 },
 "nbformat": 4,
 "nbformat_minor": 5
}
