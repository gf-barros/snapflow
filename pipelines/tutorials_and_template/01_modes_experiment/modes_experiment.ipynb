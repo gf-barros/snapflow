{
 "cells": [
  {
   "cell_type": "markdown",
   "id": "ada40dff",
   "metadata": {},
   "source": [
    "## Tutorial 01 - Modes Reconstruction\n",
    "\n",
    "In this tutorial, we are going to test our implementations of the SVD factorization and the AutoEncoder.\n",
    "\n",
    "We start by running our mandatory preamble for properly defining directions to our source code."
   ]
  },
  {
   "cell_type": "code",
   "execution_count": 11,
   "id": "8dc889ac",
   "metadata": {},
   "outputs": [
    {
     "name": "stdout",
     "output_type": "stream",
     "text": [
      "The autoreload extension is already loaded. To reload it, use:\n",
      "  %reload_ext autoreload\n"
     ]
    }
   ],
   "source": [
    "%load_ext autoreload\n",
    "%autoreload 2\n",
    "\n",
    "from pathlib import Path\n",
    "import sys\n",
    "\n",
    "current_working_directory = Path.cwd()\n",
    "root_directory = current_working_directory.parent.parent.parent\n",
    "sys.path.append(str(root_directory))"
   ]
  },
  {
   "cell_type": "markdown",
   "id": "1e93d3c9",
   "metadata": {},
   "source": [
    "### Loading the modules for the pipeline\n",
    "\n",
    "Then, we load all modules required for this experiment"
   ]
  },
  {
   "cell_type": "code",
   "execution_count": 4,
   "id": "3cdb3445",
   "metadata": {},
   "outputs": [],
   "source": [
    "from yaml import safe_load, YAMLError\n",
    "from snapflow.utils import setup_output_folder, timing_decorator\n",
    "from snapflow.snapshots import snapshots_assembly, data_normalization\n",
    "from snapflow.linear_reduction import SVD\n",
    "from snapflow.nonlinear_reduction import AutoEncoder\n",
    "from snapflow.data_split import DataSplitter\n",
    "from snapflow.postprocessing import compute_errors, save_paraview_visualization"
   ]
  },
  {
   "cell_type": "markdown",
   "id": "b62cf199",
   "metadata": {},
   "source": [
    "### Load parameters file, define experiment name (if needed) and load files"
   ]
  },
  {
   "cell_type": "code",
   "execution_count": 5,
   "id": "1a4b63e1",
   "metadata": {},
   "outputs": [],
   "source": [
    "with open(\"parameters.yaml\", \"r\") as stream:\n",
    "    try:\n",
    "        params = safe_load(stream)\n",
    "    except YAMLError as exc:\n",
    "        print(exc)\n",
    "\n",
    "if params[\"origin_experiment_name\"] == \"input\":\n",
    "     params[\"experiment_name\"] = input(\"Experiment name: \")\n",
    "\n",
    "filenames, snapshots = snapshots_assembly(params[\"snapshots\"])"
   ]
  },
  {
   "cell_type": "markdown",
   "id": "5543ffe3",
   "metadata": {},
   "source": [
    "### Setup the pipeline\n",
    "\n",
    "Now, we create a function to execute the whole pipeline. The function itself is not mandatory, but it could be interesting to isolate the variables into the scope of the pipeline. We are going to time the execution of the pipeline using the `@timing_decorator`.\n",
    "\n",
    "In this pipeline, we setup two different approaches: the `backtest` and the `inference`. The backtest is often used when we want to evaluate the components of the pipeline separately. It might be necessary to change the ML model, perform hyperparameter tuning, validate hypothesis and so on. Once everything is setup, we can perform the inference, by training our selected model with the training data and testing with the test set. It is good practice to remove the `test` set during backtest, to avoid overfitting into the test set, leading to misleading performance of the model before deploying it into production. \n",
    "\n",
    "That is, whenever we are performing backtest, the `train` and `test` are already split at first. Then, during backtest, we split the total `train` data into `train` and `validation` data and perform our backtest. As soon as the model is chosen and defined, we can train the model with the total `train` data and analyze its performance with the `test` set."
   ]
  },
  {
   "cell_type": "code",
   "execution_count": 12,
   "id": "2007698e",
   "metadata": {
    "lines_to_end_of_cell_marker": 2
   },
   "outputs": [],
   "source": [
    "@timing_decorator\n",
    "def pipeline_modes(backtest_flag = True, inference_flag = False):\n",
    "    # setup directories\n",
    "    output_folder = setup_output_folder(params)\n",
    "\n",
    "    # high dimensional data\n",
    "    svd = SVD(snapshots, params, output_folder)\n",
    "    svd.fit()\n",
    "    svd.plot_singular_values()\n",
    "    save_paraview_visualization(svd.u[:, 0], output_folder, \"original_mode_0\")\n",
    "\n",
    "    spatial_modes = svd.u\n",
    "    print(f\"spatial modes dim: {spatial_modes.shape}\")\n",
    "\n",
    "    # train_test split\n",
    "    data_splitter = DataSplitter(params)\n",
    "    folded_data = data_splitter.split_data(spatial_modes, train_test_flag=True)\n",
    "    total_train_data = folded_data[0][\"train\"]\n",
    "    total_test_data = folded_data[0][\"test\"] \n",
    "    save_paraview_visualization(total_train_data[:, 0], output_folder, \"train_test_split_mode_0\")\n",
    "    print(\"train_data shape\", total_train_data.shape)\n",
    "    print(\"train_data type\", type(total_train_data))\n",
    "\n",
    "    if backtest_flag:\n",
    "        # train_val split\n",
    "        model_selection_data = data_splitter.split_data(total_train_data, train_test_flag=False)\n",
    "\n",
    "        # fold artifacts:\n",
    "        for fold in model_selection_data.keys():\n",
    "            fold_train_data = model_selection_data[fold][\"train\"]\n",
    "            fold_train_indices = model_selection_data[fold][\"train_indices\"]\n",
    "            fold_validation_data = model_selection_data[fold][\"validation\"]\n",
    "            fold_validation_indices = model_selection_data[fold][\"validation_indices\"]\n",
    "            save_paraview_visualization(fold_train_data[:, 0], output_folder, \"train_val_split_mode_0\")\n",
    "\n",
    "            # preprocess high dimensional data\n",
    "            normalized_spatial_train_modes, u_normalization_train_fold_obj = data_normalization(\n",
    "            fold_train_data, params, \"svd\", transpose=False\n",
    "            )    \n",
    "            save_paraview_visualization(normalized_spatial_train_modes[:, 0], output_folder, \"preprocessed_train_split_mode_0\")\n",
    "\n",
    "            # fit high dimensional data\n",
    "            auto_encoder = AutoEncoder(normalized_spatial_train_modes, params, output_folder)\n",
    "            auto_encoder.fit()\n",
    "            auto_encoder.plot_quantities_per_epoch(\"avg_loss_by_epoch\", fold)\n",
    "\n",
    "            # compute error for training data\n",
    "            normalized_train_predictions = auto_encoder.predict(normalized_spatial_train_modes)\n",
    "            train_predictions = u_normalization_train_fold_obj.inverse_transform(normalized_train_predictions)\n",
    "            save_paraview_visualization(train_predictions[:, 0], output_folder, \"postprocessed_prediction_split_mode_0\")\n",
    "            compute_errors(fold, train_predictions, fold_train_data, fold_train_indices, output_folder, analysis_type=\"train\", modeling_type=\"backtest\")\n",
    "\n",
    "            # compute error for validation data\n",
    "            if fold_validation_data is not None:\n",
    "                normalized_spatial_val_modes, u_normalization_val_fold_obj = data_normalization(\n",
    "                fold_validation_data, params, \"svd\", transpose=False\n",
    "                )    \n",
    "                print(f\"normalized spatial train modes dim: {normalized_spatial_train_modes.shape}\")\n",
    "                print(f\"normalized spatial val modes dim: {normalized_spatial_val_modes.shape}\")\n",
    "                normalized_val_predictions = auto_encoder.predict(normalized_spatial_val_modes)\n",
    "                val_predictions = u_normalization_val_fold_obj.inverse_transform(normalized_val_predictions)\n",
    "                compute_errors(fold, val_predictions, fold_validation_data, fold_validation_indices, output_folder, analysis_type=\"validation\", modeling_type=\"backtest\")\n",
    "                \n",
    "\n",
    "    if inference_flag:\n",
    "            # train for all data\n",
    "            total_train_indices = folded_data[0][\"train_indices\"]\n",
    "            total_test_indices = folded_data[0][\"test_indices\"]\n",
    "\n",
    "            # normalize training and data\n",
    "            total_normalized_spatial_train_modes, u_normalization_total_train_obj = data_normalization(\n",
    "            total_train_data, params, \"svd\", transpose=False\n",
    "            )    \n",
    "            total_normalized_spatial_test_modes, u_normalization_total_test_obj = data_normalization(\n",
    "            total_test_data, params, \"svd\", transpose=False\n",
    "            )    \n",
    "            print(f\"normalized total spatial train modes dim: {total_normalized_spatial_train_modes.shape}\")\n",
    "\n",
    "            # fit high dimensional data\n",
    "            auto_encoder = AutoEncoder(total_normalized_spatial_train_modes, params, output_folder)\n",
    "            auto_encoder.fit()\n",
    "            auto_encoder.plot_quantities_per_epoch(\"avg_loss_by_epoch\")\n",
    "\n",
    "            # compute error for training data\n",
    "            total_normalized_train_predictions = auto_encoder.predict(total_normalized_spatial_train_modes)\n",
    "            total_train_predictions = u_normalization_total_train_obj.inverse_transform(total_normalized_train_predictions)\n",
    "            compute_errors(fold, total_train_predictions, 0, total_train_indices, output_folder, analysis_type=\"train\", modeling_type=\"inference\")\n",
    "\n",
    "            # compute error for test data\n",
    "            total_normalized_test_predictions = auto_encoder.predict(total_normalized_spatial_test_modes)\n",
    "            total_test_predictions = u_normalization_total_test_obj.inverse_transform(total_normalized_test_predictions)\n",
    "            compute_errors(fold, total_test_predictions, 0, total_test_indices, output_folder, paraview_plot=\"first\", analysis_type=\"test\", modeling_type=\"inference\")"
   ]
  },
  {
   "cell_type": "code",
   "execution_count": 9,
   "id": "5aed8593",
   "metadata": {},
   "outputs": [],
   "source": [
    "%%capture\n",
    "pipeline_modes(inference_flag=False)"
   ]
  },
  {
   "cell_type": "code",
   "execution_count": 10,
   "id": "bd077591",
   "metadata": {
    "lines_to_next_cell": 0
   },
   "outputs": [],
   "source": [
    "# TODO: jogar no google docs\n",
    "# TODO: Save e load do modelo\n",
    "# TODO: Plotters e cálculos de erros devem ser classe?\n",
    "# TODO: plots de erro estão errados\n",
    "# TODO: surrogate"
   ]
  },
  {
   "cell_type": "code",
   "execution_count": null,
   "id": "b5a305ea",
   "metadata": {
    "lines_to_next_cell": 2
   },
   "outputs": [],
   "source": []
  }
 ],
 "metadata": {
  "kernelspec": {
   "display_name": "turbiditos_surrogate",
   "language": "python",
   "name": "python3"
  },
  "language_info": {
   "codemirror_mode": {
    "name": "ipython",
    "version": 3
   },
   "file_extension": ".py",
   "mimetype": "text/x-python",
   "name": "python",
   "nbconvert_exporter": "python",
   "pygments_lexer": "ipython3",
   "version": "3.10.13"
  }
 },
 "nbformat": 4,
 "nbformat_minor": 5
}
